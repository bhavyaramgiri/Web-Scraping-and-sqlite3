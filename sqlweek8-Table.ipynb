{
 "cells": [
  {
   "cell_type": "markdown",
   "metadata": {},
   "source": [
    "First go to the CLI terminal and type sqlite3 to check if the system has it\n",
    "if we have it, we will be redirected to sqlite prompt. type '.help' to see all the commands and '.quit' to exit the sqlite prompt."
   ]
  },
  {
   "cell_type": "markdown",
   "metadata": {},
   "source": [
    "https://www.tutorialspoint.com/sqlite/index.htm # this link is for introduction to sqlite \n",
    "\n",
    "https://www.tutorialspoint.com/sqlite/sqlite_python.htm # this is for knowing how to use sqlite using python\n",
    "\n",
    "http://www.sqlitetutorial.net/sqlite-python/ #python\n"
   ]
  },
  {
   "cell_type": "code",
   "execution_count": 3,
   "metadata": {},
   "outputs": [],
   "source": [
    "import sqlite3"
   ]
  },
  {
   "cell_type": "markdown",
   "metadata": {},
   "source": [
    "To use sqlite3 module, you must first create a connection object that represents the database and then optionally you can create a cursor object, which will help you in executing all the SQL statements.(not created cursor=conn.cursor()for this notebook)"
   ]
  },
  {
   "cell_type": "code",
   "execution_count": 4,
   "metadata": {},
   "outputs": [],
   "source": [
    "conn = sqlite3.connect('factory.db') #connecting to database factory.db, if it is not exsisting new databse \n",
    "#+ under that name will be created in current directory"
   ]
  },
  {
   "cell_type": "markdown",
   "metadata": {},
   "source": [
    "NOT NULL is the constraints for not allowing NULL in the records of column ID_num.A primary key column cannot have NULL values.primary keyword in a relational database is unique for each record/row. CREATE TABLE- is a statement, CREATE-Data Definition Language and it is a command"
   ]
  },
  {
   "cell_type": "markdown",
   "metadata": {},
   "source": [
    "I have created the table called employee_details in factory.db, the column name with their datatype is specified. ID_num is the primary key for this table. "
   ]
  },
  {
   "cell_type": "code",
   "execution_count": 16,
   "metadata": {},
   "outputs": [],
   "source": [
    "conn.execute('''CREATE TABLE employee_details\n",
    "(ID_num INT PRIMARY KEY NOT NULL,\n",
    " NAME TEXT NOT NULL,\n",
    " AGE INT,\n",
    " ADDRESS BLOB(60),\n",
    " SALARY REAL);\n",
    "''')\n",
    "conn.close()"
   ]
  },
  {
   "cell_type": "markdown",
   "metadata": {},
   "source": [
    "creating Records in employee_details table one by one using INSERT-Data Manipulation Language ,INSERT INTO -is a statement and INSERT is a command. Note: never give a space after '\\', or else will raise error"
   ]
  },
  {
   "cell_type": "code",
   "execution_count": 17,
   "metadata": {
    "scrolled": true
   },
   "outputs": [
    {
     "ename": "ProgrammingError",
     "evalue": "Cannot operate on a closed database.",
     "output_type": "error",
     "traceback": [
      "\u001b[0;31m---------------------------------------------------------------------------\u001b[0m",
      "\u001b[0;31mProgrammingError\u001b[0m                          Traceback (most recent call last)",
      "\u001b[0;32m<ipython-input-17-9f44a57a7afb>\u001b[0m in \u001b[0;36m<module>\u001b[0;34m()\u001b[0m\n\u001b[0;32m----> 1\u001b[0;31m \u001b[0mconn\u001b[0m\u001b[0;34m.\u001b[0m\u001b[0mexecute\u001b[0m\u001b[0;34m(\u001b[0m\u001b[0;34m\"INSERT INTO employee_details(ID_num,NAME,AGE,ADDRESS,SALARY)       VALUES (101, 'qaz', 18, '#514,atlantic', 20000.00 )\"\u001b[0m\u001b[0;34m)\u001b[0m\u001b[0;34m;\u001b[0m\u001b[0;34m\u001b[0m\u001b[0m\n\u001b[0m\u001b[1;32m      2\u001b[0m \u001b[0;34m\u001b[0m\u001b[0m\n\u001b[1;32m      3\u001b[0m \u001b[0mconn\u001b[0m\u001b[0;34m.\u001b[0m\u001b[0mexecute\u001b[0m\u001b[0;34m(\u001b[0m\u001b[0;34m\"INSERT INTO employee_details (ID_num,NAME,AGE,ADDRESS,SALARY)       VALUES (102, 'wsx', 20, '@apt,nj', 15000.00 )\"\u001b[0m\u001b[0;34m)\u001b[0m\u001b[0;34m;\u001b[0m\u001b[0;34m\u001b[0m\u001b[0m\n\u001b[1;32m      4\u001b[0m \u001b[0;34m\u001b[0m\u001b[0m\n\u001b[1;32m      5\u001b[0m \u001b[0mconn\u001b[0m\u001b[0;34m.\u001b[0m\u001b[0mexecute\u001b[0m\u001b[0;34m(\u001b[0m\u001b[0;34m\"INSERT INTO employee_details (ID_num,NAME,AGE,ADDRESS,SALARY)       VALUES (103, 'edc', 23, '!gorgia', 20000.00 )\"\u001b[0m\u001b[0;34m)\u001b[0m\u001b[0;34m;\u001b[0m\u001b[0;34m\u001b[0m\u001b[0m\n",
      "\u001b[0;31mProgrammingError\u001b[0m: Cannot operate on a closed database."
     ]
    }
   ],
   "source": [
    "conn.execute(\"INSERT INTO employee_details(ID_num,NAME,AGE,ADDRESS,SALARY) \\\n",
    "      VALUES (101, 'qaz', 18, '#514,atlantic', 20000.00 )\");\n",
    "\n",
    "conn.execute(\"INSERT INTO employee_details (ID_num,NAME,AGE,ADDRESS,SALARY) \\\n",
    "      VALUES (102, 'wsx', 20, '@apt,nj', 15000.00 )\");\n",
    "\n",
    "conn.execute(\"INSERT INTO employee_details (ID_num,NAME,AGE,ADDRESS,SALARY) \\\n",
    "      VALUES (103, 'edc', 23, '!gorgia', 20000.00 )\");\n",
    "\n",
    "conn.commit()"
   ]
  },
  {
   "cell_type": "markdown",
   "metadata": {},
   "source": [
    "Connecting back to database since I closed it earlier using conn.close()"
   ]
  },
  {
   "cell_type": "code",
   "execution_count": 18,
   "metadata": {},
   "outputs": [],
   "source": [
    "conn = sqlite3.connect('factory.db')"
   ]
  },
  {
   "cell_type": "code",
   "execution_count": 21,
   "metadata": {},
   "outputs": [],
   "source": [
    "conn.execute(\"INSERT INTO employee_details(ID_num,NAME,AGE,ADDRESS,SALARY) \\\n",
    "      VALUES (101, 'qaz', 18, '#514,atlantic', 20000.00 )\");\n",
    "\n",
    "conn.execute(\"INSERT INTO employee_details(ID_num,NAME,AGE,ADDRESS,SALARY) \\\n",
    "      VALUES (102, 'wsx', 20, '@apt,nj', 15000.00 )\");\n",
    "\n",
    "conn.execute(\"INSERT INTO employee_details(ID_num,NAME,AGE,ADDRESS,SALARY) \\\n",
    "      VALUES (103, 'edc', 23, '!gorgia', 20000.00 )\");\n",
    "\n",
    "conn.execute(\"INSERT INTO employee_details(ID_num,NAME,AGE,ADDRESS,SALARY) \\\n",
    "      VALUES (1, 'qaz', 18, '#514,atlantic', 20000.00 )\");\n",
    "\n",
    "conn.execute(\"INSERT INTO employee_details(ID_num,NAME,AGE,ADDRESS,SALARY) \\\n",
    "      VALUES (2, 'wsx', 20, '@apt,nj', 15000.00 )\");\n",
    "\n",
    "conn.execute(\"INSERT INTO employee_details(ID_num,NAME,AGE,ADDRESS,SALARY) \\\n",
    "      VALUES (3, 'edc', 23, '!gorgia', 20000.00 )\");\n",
    "\n",
    "conn.execute(\"INSERT INTO employee_details(ID_num,NAME,AGE,ADDRESS,SALARY) \\\n",
    "      VALUES (4, 'rfv', 25, 'Rich-Mond', 65000.00 )\");\n",
    "\n",
    "conn.commit()"
   ]
  },
  {
   "cell_type": "markdown",
   "metadata": {},
   "source": [
    "###### how to retrieve and display records from the employee_details table  using SELECT command-Data Query Language"
   ]
  },
  {
   "cell_type": "code",
   "execution_count": 23,
   "metadata": {},
   "outputs": [
    {
     "name": "stdout",
     "output_type": "stream",
     "text": [
      "ID_num =  101\n",
      "NAME =  qaz\n",
      "ADDRESS =  #514,atlantic\n",
      "SALARY =  20000.0 \n",
      "\n",
      "ID_num =  102\n",
      "NAME =  wsx\n",
      "ADDRESS =  @apt,nj\n",
      "SALARY =  15000.0 \n",
      "\n",
      "ID_num =  103\n",
      "NAME =  edc\n",
      "ADDRESS =  !gorgia\n",
      "SALARY =  20000.0 \n",
      "\n",
      "ID_num =  1\n",
      "NAME =  qaz\n",
      "ADDRESS =  #514,atlantic\n",
      "SALARY =  20000.0 \n",
      "\n",
      "ID_num =  2\n",
      "NAME =  wsx\n",
      "ADDRESS =  @apt,nj\n",
      "SALARY =  15000.0 \n",
      "\n",
      "ID_num =  3\n",
      "NAME =  edc\n",
      "ADDRESS =  !gorgia\n",
      "SALARY =  20000.0 \n",
      "\n",
      "ID_num =  4\n",
      "NAME =  rfv\n",
      "ADDRESS =  Rich-Mond\n",
      "SALARY =  65000.0 \n",
      "\n"
     ]
    }
   ],
   "source": [
    "data = conn.execute(\"SELECT id_num, name, address, salary FROM EMPLOYEE_DETAILS\")\n",
    "for row in data:\n",
    "   print(\"ID_num = \", row[0])\n",
    "   print(\"NAME = \", row[1])\n",
    "   print(\"ADDRESS = \", row[2])\n",
    "   print(\"SALARY = \", row[3], \"\\n\")"
   ]
  },
  {
   "cell_type": "markdown",
   "metadata": {},
   "source": [
    "As the command executed above, SQLite is case insensitive but exceptions are for commands and statements"
   ]
  },
  {
   "cell_type": "markdown",
   "metadata": {},
   "source": [
    "UPDATE statement to update any record and then fetch and display the updated records from the employee_details table."
   ]
  },
  {
   "cell_type": "code",
   "execution_count": 25,
   "metadata": {},
   "outputs": [
    {
     "name": "stdout",
     "output_type": "stream",
     "text": [
      "Total number of rows updated : 9\n"
     ]
    }
   ],
   "source": [
    "conn.execute(\"UPDATE employee_details set SALARY = 15000.00 where ID_num = 1\")\n",
    "conn.execute(\"UPDATE employee_details set NAME = 'tgb' where ID_num= 4\")\n",
    "conn.commit\n",
    "print(\"Total number of rows updated :\", conn.total_changes)"
   ]
  },
  {
   "cell_type": "code",
   "execution_count": 26,
   "metadata": {},
   "outputs": [
    {
     "name": "stdout",
     "output_type": "stream",
     "text": [
      "ID_num =  101\n",
      "NAME =  qaz\n",
      "ADDRESS =  #514,atlantic\n",
      "SALARY =  20000.0 \n",
      "\n",
      "ID_num =  102\n",
      "NAME =  wsx\n",
      "ADDRESS =  @apt,nj\n",
      "SALARY =  15000.0 \n",
      "\n",
      "ID_num =  103\n",
      "NAME =  edc\n",
      "ADDRESS =  !gorgia\n",
      "SALARY =  20000.0 \n",
      "\n",
      "ID_num =  1\n",
      "NAME =  qaz\n",
      "ADDRESS =  #514,atlantic\n",
      "SALARY =  15000.0 \n",
      "\n",
      "ID_num =  2\n",
      "NAME =  wsx\n",
      "ADDRESS =  @apt,nj\n",
      "SALARY =  15000.0 \n",
      "\n",
      "ID_num =  3\n",
      "NAME =  edc\n",
      "ADDRESS =  !gorgia\n",
      "SALARY =  20000.0 \n",
      "\n",
      "ID_num =  4\n",
      "NAME =  tgb\n",
      "ADDRESS =  Rich-Mond\n",
      "SALARY =  65000.0 \n",
      "\n"
     ]
    }
   ],
   "source": [
    "data = conn.execute(\"SELECT id_num, name, address, salary FROM EMPLOYEE_DETAILS\")\n",
    "for row in data:\n",
    "   print(\"ID_num = \", row[0])\n",
    "   print(\"NAME = \", row[1])\n",
    "   print(\"ADDRESS = \", row[2])\n",
    "   print(\"SALARY = \", row[3], \"\\n\")"
   ]
  },
  {
   "cell_type": "markdown",
   "metadata": {},
   "source": [
    "DELETE statement to delete any record and then fetch and display the remaining records from the employee_details table."
   ]
  },
  {
   "cell_type": "code",
   "execution_count": 27,
   "metadata": {},
   "outputs": [
    {
     "name": "stdout",
     "output_type": "stream",
     "text": [
      "Total number of rows deleted : 12\n"
     ]
    }
   ],
   "source": [
    "conn.execute(\"DELETE from employee_details where ID_num = 101;\")\n",
    "conn.execute(\"DELETE from employee_details where ID_num = 102;\")\n",
    "conn.execute(\"DELETE from employee_details where ID_num = 103;\")\n",
    "conn.commit()\n",
    "print (\"Total number of rows deleted :\", conn.total_changes)"
   ]
  },
  {
   "cell_type": "code",
   "execution_count": 5,
   "metadata": {},
   "outputs": [
    {
     "name": "stdout",
     "output_type": "stream",
     "text": [
      "ID_num =  1\n",
      "NAME =  qaz\n",
      "ADDRESS =  #514,atlantic\n",
      "SALARY =  15000.0 \n",
      "\n",
      "ID_num =  2\n",
      "NAME =  wsx\n",
      "ADDRESS =  @apt,nj\n",
      "SALARY =  15000.0 \n",
      "\n",
      "ID_num =  3\n",
      "NAME =  edc\n",
      "ADDRESS =  !gorgia\n",
      "SALARY =  20000.0 \n",
      "\n",
      "ID_num =  4\n",
      "NAME =  tgb\n",
      "ADDRESS =  Rich-Mond\n",
      "SALARY =  65000.0 \n",
      "\n"
     ]
    }
   ],
   "source": [
    "data = conn.execute(\"SELECT id_num, name, address, salary FROM EMPLOYEE_DETAILS\")\n",
    "for row in data:\n",
    "   print(\"ID_num = \", row[0])\n",
    "   print(\"NAME = \", row[1])\n",
    "   print(\"ADDRESS = \", row[2])\n",
    "   print(\"SALARY = \", row[3], \"\\n\")\n",
    "conn.close()"
   ]
  },
  {
   "cell_type": "code",
   "execution_count": null,
   "metadata": {},
   "outputs": [],
   "source": []
  }
 ],
 "metadata": {
  "kernelspec": {
   "display_name": "Python 3",
   "language": "python",
   "name": "python3"
  },
  "language_info": {
   "codemirror_mode": {
    "name": "ipython",
    "version": 3
   },
   "file_extension": ".py",
   "mimetype": "text/x-python",
   "name": "python",
   "nbconvert_exporter": "python",
   "pygments_lexer": "ipython3",
   "version": "3.6.8"
  }
 },
 "nbformat": 4,
 "nbformat_minor": 2
}
