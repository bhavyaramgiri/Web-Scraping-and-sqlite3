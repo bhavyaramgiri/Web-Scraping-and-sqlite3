{
 "cells": [
  {
   "cell_type": "code",
   "execution_count": 1,
   "metadata": {},
   "outputs": [],
   "source": [
    "import requests\n",
    "import pandas as pd\n",
    "import sqlite3\n",
    "import lxml.html"
   ]
  },
  {
   "cell_type": "markdown",
   "metadata": {},
   "source": [
    "Variables used: request_web(for website data), html_to_xml,trow(<tr>),tr(table requested), tablebody(table rows), data_sample(sample for loop), data(whole table data), df(panda dataframe)"
   ]
  },
  {
   "cell_type": "code",
   "execution_count": 2,
   "metadata": {},
   "outputs": [],
   "source": [
    "request_web = requests.get(\"https://www.worldwildlife.org/species/directory#\")"
   ]
  },
  {
   "cell_type": "code",
   "execution_count": 3,
   "metadata": {},
   "outputs": [
    {
     "data": {
      "text/plain": [
       "<Response [200]>"
      ]
     },
     "execution_count": 3,
     "metadata": {},
     "output_type": "execute_result"
    }
   ],
   "source": [
    "request_web"
   ]
  },
  {
   "cell_type": "code",
   "execution_count": 4,
   "metadata": {},
   "outputs": [],
   "source": [
    "html_to_xml= lxml.html.fromstring(request_web.text)"
   ]
  },
  {
   "cell_type": "code",
   "execution_count": 5,
   "metadata": {},
   "outputs": [
    {
     "data": {
      "text/plain": [
       "<Element html at 0x7ff3d18aee08>"
      ]
     },
     "execution_count": 5,
     "metadata": {},
     "output_type": "execute_result"
    }
   ],
   "source": [
    "html_to_xml"
   ]
  },
  {
   "cell_type": "code",
   "execution_count": 6,
   "metadata": {
    "scrolled": true
   },
   "outputs": [],
   "source": [
    "trow = html_to_xml.xpath('//tr') # the website has one table, which has <thead> and <tbody> both having <tr>, \n",
    "#this code will extract the all the rows of table at once"
   ]
  },
  {
   "cell_type": "code",
   "execution_count": 7,
   "metadata": {
    "scrolled": true
   },
   "outputs": [
    {
     "data": {
      "text/plain": [
       "[3, 3, 3, 3, 3, 3, 3, 3, 3, 3]"
      ]
     },
     "execution_count": 7,
     "metadata": {},
     "output_type": "execute_result"
    }
   ],
   "source": [
    "[len(T) for T in trow[:10]]#cross verifying to check if all the rows are of same length, if yes they are from same table"
   ]
  },
  {
   "cell_type": "code",
   "execution_count": 8,
   "metadata": {},
   "outputs": [],
   "source": [
    "tr = html_to_xml.xpath('//tbody') # it better to pull the table using <tbody> tag, instead of <tr> tag"
   ]
  },
  {
   "cell_type": "code",
   "execution_count": 9,
   "metadata": {},
   "outputs": [
    {
     "data": {
      "text/plain": [
       "[50]"
      ]
     },
     "execution_count": 9,
     "metadata": {},
     "output_type": "execute_result"
    }
   ],
   "source": [
    "[len(T) for T in tr[:10]]"
   ]
  },
  {
   "cell_type": "code",
   "execution_count": 10,
   "metadata": {
    "scrolled": true
   },
   "outputs": [
    {
     "data": {
      "text/plain": [
       "1"
      ]
     },
     "execution_count": 10,
     "metadata": {},
     "output_type": "execute_result"
    }
   ],
   "source": [
    "len(tr) #the one table in website"
   ]
  },
  {
   "cell_type": "code",
   "execution_count": 11,
   "metadata": {},
   "outputs": [
    {
     "data": {
      "text/plain": [
       "[<Element tbody at 0x7ff3d10215e8>]"
      ]
     },
     "execution_count": 11,
     "metadata": {},
     "output_type": "execute_result"
    }
   ],
   "source": [
    "tr"
   ]
  },
  {
   "cell_type": "code",
   "execution_count": 12,
   "metadata": {},
   "outputs": [
    {
     "data": {
      "text/plain": [
       "50"
      ]
     },
     "execution_count": 12,
     "metadata": {},
     "output_type": "execute_result"
    }
   ],
   "source": [
    "len(tr[0].getchildren())"
   ]
  },
  {
   "cell_type": "code",
   "execution_count": 13,
   "metadata": {},
   "outputs": [
    {
     "data": {
      "text/plain": [
       "50"
      ]
     },
     "execution_count": 13,
     "metadata": {},
     "output_type": "execute_result"
    }
   ],
   "source": [
    "tablebody=tr[0]\n",
    "len(tablebody)"
   ]
  },
  {
   "cell_type": "code",
   "execution_count": 14,
   "metadata": {},
   "outputs": [
    {
     "data": {
      "text/plain": [
       "'\\nAfrican Elephant\\nLoxodonta africana\\nVulnerable\\n'"
      ]
     },
     "execution_count": 14,
     "metadata": {},
     "output_type": "execute_result"
    }
   ],
   "source": [
    "tablebody.getchildren()[0].text_content()"
   ]
  },
  {
   "cell_type": "code",
   "execution_count": 15,
   "metadata": {},
   "outputs": [
    {
     "data": {
      "text/plain": [
       "[<Element td at 0x7ff3d1021e08>,\n",
       " <Element td at 0x7ff3d1021ae8>,\n",
       " <Element td at 0x7ff3d1021cc8>]"
      ]
     },
     "execution_count": 15,
     "metadata": {},
     "output_type": "execute_result"
    }
   ],
   "source": [
    "tablebody.getchildren()[0].getchildren()"
   ]
  },
  {
   "cell_type": "code",
   "execution_count": 16,
   "metadata": {},
   "outputs": [
    {
     "name": "stdout",
     "output_type": "stream",
     "text": [
      "African Elephant\n",
      "Loxodonta africana\n",
      "Vulnerable\n"
     ]
    }
   ],
   "source": [
    "print(tablebody.getchildren()[0].getchildren()[0].text_content())\n",
    "print(tablebody.getchildren()[0].getchildren()[1].text_content())\n",
    "print(tablebody.getchildren()[0].getchildren()[2].text_content())"
   ]
  },
  {
   "cell_type": "code",
   "execution_count": 17,
   "metadata": {
    "scrolled": true
   },
   "outputs": [
    {
     "data": {
      "text/plain": [
       "<Element tr at 0x7ff3d101e548>"
      ]
     },
     "execution_count": 17,
     "metadata": {},
     "output_type": "execute_result"
    }
   ],
   "source": [
    "tablebody.getchildren()[0]"
   ]
  },
  {
   "cell_type": "code",
   "execution_count": 18,
   "metadata": {},
   "outputs": [
    {
     "data": {
      "text/plain": [
       "'African Elephant'"
      ]
     },
     "execution_count": 18,
     "metadata": {},
     "output_type": "execute_result"
    }
   ],
   "source": [
    "tablebody.getchildren()[0].getchildren()[0].text_content()"
   ]
  },
  {
   "cell_type": "code",
   "execution_count": 19,
   "metadata": {},
   "outputs": [
    {
     "data": {
      "text/plain": [
       "'Loxodonta africana'"
      ]
     },
     "execution_count": 19,
     "metadata": {},
     "output_type": "execute_result"
    }
   ],
   "source": [
    "tablebody.getchildren()[0].getchildren()[1].text_content()"
   ]
  },
  {
   "cell_type": "code",
   "execution_count": 20,
   "metadata": {},
   "outputs": [
    {
     "data": {
      "text/plain": [
       "'Vulnerable'"
      ]
     },
     "execution_count": 20,
     "metadata": {},
     "output_type": "execute_result"
    }
   ],
   "source": [
    "tablebody.getchildren()[0].getchildren()[2].text_content()"
   ]
  },
  {
   "cell_type": "markdown",
   "metadata": {},
   "source": [
    "checking for small sample of data"
   ]
  },
  {
   "cell_type": "code",
   "execution_count": 21,
   "metadata": {
    "scrolled": true
   },
   "outputs": [],
   "source": [
    "data_sample = {\n",
    "    \"Common name\"         :[],\n",
    "    \"Scientific name\"     :[],\n",
    "    \"Conservation status\" :[]  \n",
    "}\n",
    "for row in tablebody.getchildren()[0:3]:\n",
    "    data_sample[\"Common name\"].append(row.getchildren()[0].text_content())\n",
    "    data_sample[\"Scientific name\"].append(row.getchildren()[1].text_content())\n",
    "    data_sample[\"Conservation status\"].append(row.getchildren()[2].text_content())"
   ]
  },
  {
   "cell_type": "code",
   "execution_count": 22,
   "metadata": {
    "scrolled": true
   },
   "outputs": [
    {
     "data": {
      "text/plain": [
       "{'Common name': ['African Elephant', 'African Wild Dog', 'Albacore Tuna'],\n",
       " 'Scientific name': ['Loxodonta africana',\n",
       "  'Lycaon pictus',\n",
       "  'Thunnus alalunga'],\n",
       " 'Conservation status': ['Vulnerable', 'Endangered', 'Near Threatened']}"
      ]
     },
     "execution_count": 22,
     "metadata": {},
     "output_type": "execute_result"
    }
   ],
   "source": [
    "data_sample"
   ]
  },
  {
   "cell_type": "code",
   "execution_count": 23,
   "metadata": {},
   "outputs": [
    {
     "data": {
      "text/html": [
       "<div>\n",
       "<style scoped>\n",
       "    .dataframe tbody tr th:only-of-type {\n",
       "        vertical-align: middle;\n",
       "    }\n",
       "\n",
       "    .dataframe tbody tr th {\n",
       "        vertical-align: top;\n",
       "    }\n",
       "\n",
       "    .dataframe thead th {\n",
       "        text-align: right;\n",
       "    }\n",
       "</style>\n",
       "<table border=\"1\" class=\"dataframe\">\n",
       "  <thead>\n",
       "    <tr style=\"text-align: right;\">\n",
       "      <th></th>\n",
       "      <th>Common name</th>\n",
       "      <th>Scientific name</th>\n",
       "      <th>Conservation status</th>\n",
       "    </tr>\n",
       "  </thead>\n",
       "  <tbody>\n",
       "    <tr>\n",
       "      <th>0</th>\n",
       "      <td>African Elephant</td>\n",
       "      <td>Loxodonta africana</td>\n",
       "      <td>Vulnerable</td>\n",
       "    </tr>\n",
       "    <tr>\n",
       "      <th>1</th>\n",
       "      <td>African Wild Dog</td>\n",
       "      <td>Lycaon pictus</td>\n",
       "      <td>Endangered</td>\n",
       "    </tr>\n",
       "    <tr>\n",
       "      <th>2</th>\n",
       "      <td>Albacore Tuna</td>\n",
       "      <td>Thunnus alalunga</td>\n",
       "      <td>Near Threatened</td>\n",
       "    </tr>\n",
       "  </tbody>\n",
       "</table>\n",
       "</div>"
      ],
      "text/plain": [
       "        Common name     Scientific name Conservation status\n",
       "0  African Elephant  Loxodonta africana          Vulnerable\n",
       "1  African Wild Dog       Lycaon pictus          Endangered\n",
       "2     Albacore Tuna    Thunnus alalunga     Near Threatened"
      ]
     },
     "execution_count": 23,
     "metadata": {},
     "output_type": "execute_result"
    }
   ],
   "source": [
    "pd.DataFrame(data_sample)"
   ]
  },
  {
   "cell_type": "code",
   "execution_count": 24,
   "metadata": {
    "scrolled": false
   },
   "outputs": [
    {
     "data": {
      "text/html": [
       "<div>\n",
       "<style scoped>\n",
       "    .dataframe tbody tr th:only-of-type {\n",
       "        vertical-align: middle;\n",
       "    }\n",
       "\n",
       "    .dataframe tbody tr th {\n",
       "        vertical-align: top;\n",
       "    }\n",
       "\n",
       "    .dataframe thead th {\n",
       "        text-align: right;\n",
       "    }\n",
       "</style>\n",
       "<table border=\"1\" class=\"dataframe\">\n",
       "  <thead>\n",
       "    <tr style=\"text-align: right;\">\n",
       "      <th></th>\n",
       "      <th>Common name</th>\n",
       "      <th>Scientific name</th>\n",
       "      <th>Conservation status</th>\n",
       "    </tr>\n",
       "  </thead>\n",
       "  <tbody>\n",
       "    <tr>\n",
       "      <th>0</th>\n",
       "      <td>African Elephant</td>\n",
       "      <td>Loxodonta africana</td>\n",
       "      <td>Vulnerable</td>\n",
       "    </tr>\n",
       "    <tr>\n",
       "      <th>1</th>\n",
       "      <td>African Wild Dog</td>\n",
       "      <td>Lycaon pictus</td>\n",
       "      <td>Endangered</td>\n",
       "    </tr>\n",
       "    <tr>\n",
       "      <th>2</th>\n",
       "      <td>Albacore Tuna</td>\n",
       "      <td>Thunnus alalunga</td>\n",
       "      <td>Near Threatened</td>\n",
       "    </tr>\n",
       "    <tr>\n",
       "      <th>3</th>\n",
       "      <td>Amazon River Dolphin</td>\n",
       "      <td>Scientific Name Inia geoffrensis</td>\n",
       "      <td></td>\n",
       "    </tr>\n",
       "    <tr>\n",
       "      <th>4</th>\n",
       "      <td>Amur Leopard</td>\n",
       "      <td>Panthera pardus orientalis</td>\n",
       "      <td>Critically Endangered</td>\n",
       "    </tr>\n",
       "  </tbody>\n",
       "</table>\n",
       "</div>"
      ],
      "text/plain": [
       "            Common name                   Scientific name  \\\n",
       "0      African Elephant                Loxodonta africana   \n",
       "1      African Wild Dog                     Lycaon pictus   \n",
       "2         Albacore Tuna                  Thunnus alalunga   \n",
       "3  Amazon River Dolphin  Scientific Name Inia geoffrensis   \n",
       "4          Amur Leopard        Panthera pardus orientalis   \n",
       "\n",
       "     Conservation status  \n",
       "0             Vulnerable  \n",
       "1             Endangered  \n",
       "2        Near Threatened  \n",
       "3                         \n",
       "4  Critically Endangered  "
      ]
     },
     "execution_count": 24,
     "metadata": {},
     "output_type": "execute_result"
    }
   ],
   "source": [
    "data = {\n",
    "    \"Common name\"         :[],\n",
    "    \"Scientific name\"     :[],\n",
    "    \"Conservation status\" :[]  \n",
    "}\n",
    "for row in tablebody.getchildren():\n",
    "    data[\"Common name\"].append(row.getchildren()[0].text_content().strip())\n",
    "    data[\"Scientific name\"].append(row.getchildren()[1].text_content().strip())\n",
    "    data[\"Conservation status\"].append(row.getchildren()[2].text_content().strip())   \n",
    "       \n",
    "pd.DataFrame(data).head()"
   ]
  },
  {
   "cell_type": "code",
   "execution_count": 25,
   "metadata": {},
   "outputs": [],
   "source": [
    "df=pd.DataFrame(data)   "
   ]
  },
  {
   "cell_type": "code",
   "execution_count": 26,
   "metadata": {},
   "outputs": [],
   "source": [
    "import numpy as np"
   ]
  },
  {
   "cell_type": "code",
   "execution_count": 27,
   "metadata": {},
   "outputs": [],
   "source": [
    "df.replace('', np.nan, inplace=True)"
   ]
  },
  {
   "cell_type": "code",
   "execution_count": 28,
   "metadata": {
    "scrolled": false
   },
   "outputs": [
    {
     "name": "stdout",
     "output_type": "stream",
     "text": [
      "('African Elephant', 'Loxodonta africana', 'Vulnerable')\n",
      "('African Wild Dog', 'Lycaon pictus', 'Endangered')\n",
      "('Albacore Tuna', 'Thunnus alalunga', 'Near Threatened')\n",
      "('Amazon River Dolphin', 'Scientific Name Inia geoffrensis', nan)\n",
      "('Amur Leopard', 'Panthera pardus orientalis', 'Critically Endangered')\n",
      "('Amur Tiger', 'Panthera tigris altaica', 'Endangered')\n",
      "('Arctic Fox', 'Vulpes lagopus', 'Least Concern')\n",
      "('Arctic Wolf', 'Canis lupus arctos', 'Least Concern')\n",
      "('Asian Elephant', 'Elephas maximus indicus', 'Endangered')\n",
      "('Beluga', 'Delphinapterus leucas', 'Near Threatened')\n",
      "('Bengal Tiger', 'Panthera tigris tigris', 'Endangered')\n",
      "('Bigeye Tuna', 'Thunnus obesus', 'Vulnerable')\n",
      "('Black Rhino', 'Diceros bicornis', 'Critically Endangered')\n",
      "('Black Spider Monkey', 'Ateles paniscus', 'Vulnerable')\n",
      "('Black-footed Ferret', 'Mustela nigripes', 'Endangered')\n",
      "('Blue Whale', 'Balaenoptera musculus', 'Endangered')\n",
      "('Bluefin Tuna', 'Thunnus spp', 'Endangered')\n",
      "('Bonobo', 'Pan paniscus', 'Endangered')\n",
      "('Bornean Orangutan', 'Pongo pygmaeus', 'Critically Endangered')\n",
      "('Borneo Pygmy Elephant', 'Elephas maximus borneensis', 'Endangered')\n",
      "('Bowhead Whale', 'Balaena mysticetus', 'Least Concern')\n",
      "('Brown Bear', 'Ursus arctos', 'Least Concern')\n",
      "('Chimpanzee', 'Pan troglodytes', 'Endangered')\n",
      "('Common Bottlenose Dolphin', 'Tursiops truncates', 'Least Concern')\n",
      "('Cross River Gorilla', 'Gorilla gorilla diehli', 'Critically Endangered')\n",
      "('Dolphins and Porpoises', nan, nan)\n",
      "('Dugong', 'Dugong dugon', 'Vulnerable')\n",
      "('Eastern Lowland Gorilla', 'Gorilla beringei graueri', 'Critically Endangered')\n",
      "('Elephant', nan, nan)\n",
      "('Fin Whale', 'Balaenoptera physalus', 'Endangered')\n",
      "('Forest Elephant', nan, 'Vulnerable')\n",
      "('Galápagos Penguin', 'Spheniscus mendiculus', 'Endangered')\n",
      "('Ganges River Dolphin', 'Platanista gangetica gangetica', 'Endangered')\n",
      "('Giant Panda', 'Ailuropoda melanoleuca', 'Vulnerable')\n",
      "('Giant Tortoise', nan, 'Vulnerable')\n",
      "('Gorilla', 'Gorilla gorilla and Gorilla beringei', nan)\n",
      "('Gray Whale', 'Eschrichtius robustus', 'Least Concern')\n",
      "('Great White Shark', 'Carcharodon carcharias', 'Vulnerable')\n",
      "('Greater One-Horned Rhino', 'Rhinoceros unicornis', 'Vulnerable')\n",
      "('Greater Sage-Grouse', 'Centrocercus urophasianus', 'Near Threatened')\n",
      "('Green Turtle', 'Chelonia mydas', 'Endangered')\n",
      "('Hawksbill Turtle', 'Eretmochelys imbricata', 'Critically Endangered')\n",
      "(\"Hector's Dolphin\", 'Cephalorhynchus hectori', 'Endangered')\n",
      "('Hippopotamus', 'Hippopotamus amphibius', 'Vulnerable')\n",
      "('Humphead Wrasse', 'Cheilinus undulatus', 'Endangered')\n",
      "('Indian Elephant', 'Elephas maximus indicus', 'Endangered')\n",
      "('Indochinese Tiger', 'Panthera tigris corbetti', 'Endangered')\n",
      "('Indus River Dolphin', 'Platanista minor', 'Endangered')\n",
      "('Irrawaddy Dolphin', 'Orcaella brevirostris', 'Endangered')\n",
      "('Jaguar', 'Panthera onca', 'Near Threatened')\n"
     ]
    }
   ],
   "source": [
    "for i in df.itertuples():\n",
    "    print(i[1:])"
   ]
  },
  {
   "cell_type": "markdown",
   "metadata": {},
   "source": [
    "To use sqlite3 module, you must first create a connection object that represents the database and then optionally you can create a cursor object, which will help you in executing all the SQL statements."
   ]
  },
  {
   "cell_type": "code",
   "execution_count": 29,
   "metadata": {},
   "outputs": [],
   "source": [
    "conn = sqlite3.connect(\":memory:\") # database(stored in variable conn) is created temprorarily in memory\n",
    "cursor = conn.cursor()\n",
    "cursor.execute(\"\"\"\n",
    "    CREATE TABLE SPECIES(Common_name PRIMARY KEY NOT NULL, Scientific_name, Conservation_status)\n",
    "\"\"\")\n",
    "for ro in df.itertuples():\n",
    "    insert_table = \"\"\"\n",
    "    INSERT INTO SPECIES(Common_name, Scientific_name, Conservation_status) \\\n",
    "    VALUES (?,?,?)\n",
    "\"\"\"\n",
    "    cursor.execute(insert_table, ro[1:5])\n",
    "#conn.close()\n",
    "conn.commit()"
   ]
  },
  {
   "cell_type": "markdown",
   "metadata": {},
   "source": [
    "NOT NULL is the constraints for not allowing NULL in the records of column Common_name.A primary key column cannot have NULL values.primary keyword in a relational database is unique for each record/row. CREATE TABLE- is a statement, CREATE-Data Definition Language and it is a command\n",
    "creating Records in SPECIES table using INSERT-Data Manipulation Language ,INSERT INTO -is a statement and INSERT is a command. Note: never give a space after '\\', or else will raise error"
   ]
  },
  {
   "cell_type": "code",
   "execution_count": 30,
   "metadata": {
    "scrolled": false
   },
   "outputs": [
    {
     "name": "stdout",
     "output_type": "stream",
     "text": [
      "Common_name =  African Elephant\n",
      "Scientific_name =  Loxodonta africana\n",
      "Conservation_status =  Vulnerable \n",
      "\n",
      "Common_name =  African Wild Dog\n",
      "Scientific_name =  Lycaon pictus\n",
      "Conservation_status =  Endangered \n",
      "\n",
      "Common_name =  Albacore Tuna\n",
      "Scientific_name =  Thunnus alalunga\n",
      "Conservation_status =  Near Threatened \n",
      "\n",
      "Common_name =  Amazon River Dolphin\n",
      "Scientific_name =  Scientific Name Inia geoffrensis\n",
      "Conservation_status =  None \n",
      "\n",
      "Common_name =  Amur Leopard\n",
      "Scientific_name =  Panthera pardus orientalis\n",
      "Conservation_status =  Critically Endangered \n",
      "\n",
      "Common_name =  Amur Tiger\n",
      "Scientific_name =  Panthera tigris altaica\n",
      "Conservation_status =  Endangered \n",
      "\n",
      "Common_name =  Arctic Fox\n",
      "Scientific_name =  Vulpes lagopus\n",
      "Conservation_status =  Least Concern \n",
      "\n",
      "Common_name =  Arctic Wolf\n",
      "Scientific_name =  Canis lupus arctos\n",
      "Conservation_status =  Least Concern \n",
      "\n",
      "Common_name =  Asian Elephant\n",
      "Scientific_name =  Elephas maximus indicus\n",
      "Conservation_status =  Endangered \n",
      "\n",
      "Common_name =  Beluga\n",
      "Scientific_name =  Delphinapterus leucas\n",
      "Conservation_status =  Near Threatened \n",
      "\n",
      "Common_name =  Bengal Tiger\n",
      "Scientific_name =  Panthera tigris tigris\n",
      "Conservation_status =  Endangered \n",
      "\n",
      "Common_name =  Bigeye Tuna\n",
      "Scientific_name =  Thunnus obesus\n",
      "Conservation_status =  Vulnerable \n",
      "\n",
      "Common_name =  Black Rhino\n",
      "Scientific_name =  Diceros bicornis\n",
      "Conservation_status =  Critically Endangered \n",
      "\n",
      "Common_name =  Black Spider Monkey\n",
      "Scientific_name =  Ateles paniscus\n",
      "Conservation_status =  Vulnerable \n",
      "\n",
      "Common_name =  Black-footed Ferret\n",
      "Scientific_name =  Mustela nigripes\n",
      "Conservation_status =  Endangered \n",
      "\n",
      "Common_name =  Blue Whale\n",
      "Scientific_name =  Balaenoptera musculus\n",
      "Conservation_status =  Endangered \n",
      "\n",
      "Common_name =  Bluefin Tuna\n",
      "Scientific_name =  Thunnus spp\n",
      "Conservation_status =  Endangered \n",
      "\n",
      "Common_name =  Bonobo\n",
      "Scientific_name =  Pan paniscus\n",
      "Conservation_status =  Endangered \n",
      "\n",
      "Common_name =  Bornean Orangutan\n",
      "Scientific_name =  Pongo pygmaeus\n",
      "Conservation_status =  Critically Endangered \n",
      "\n",
      "Common_name =  Borneo Pygmy Elephant\n",
      "Scientific_name =  Elephas maximus borneensis\n",
      "Conservation_status =  Endangered \n",
      "\n",
      "Common_name =  Bowhead Whale\n",
      "Scientific_name =  Balaena mysticetus\n",
      "Conservation_status =  Least Concern \n",
      "\n",
      "Common_name =  Brown Bear\n",
      "Scientific_name =  Ursus arctos\n",
      "Conservation_status =  Least Concern \n",
      "\n",
      "Common_name =  Chimpanzee\n",
      "Scientific_name =  Pan troglodytes\n",
      "Conservation_status =  Endangered \n",
      "\n",
      "Common_name =  Common Bottlenose Dolphin\n",
      "Scientific_name =  Tursiops truncates\n",
      "Conservation_status =  Least Concern \n",
      "\n",
      "Common_name =  Cross River Gorilla\n",
      "Scientific_name =  Gorilla gorilla diehli\n",
      "Conservation_status =  Critically Endangered \n",
      "\n",
      "Common_name =  Dolphins and Porpoises\n",
      "Scientific_name =  None\n",
      "Conservation_status =  None \n",
      "\n",
      "Common_name =  Dugong\n",
      "Scientific_name =  Dugong dugon\n",
      "Conservation_status =  Vulnerable \n",
      "\n",
      "Common_name =  Eastern Lowland Gorilla\n",
      "Scientific_name =  Gorilla beringei graueri\n",
      "Conservation_status =  Critically Endangered \n",
      "\n",
      "Common_name =  Elephant\n",
      "Scientific_name =  None\n",
      "Conservation_status =  None \n",
      "\n",
      "Common_name =  Fin Whale\n",
      "Scientific_name =  Balaenoptera physalus\n",
      "Conservation_status =  Endangered \n",
      "\n",
      "Common_name =  Forest Elephant\n",
      "Scientific_name =  None\n",
      "Conservation_status =  Vulnerable \n",
      "\n",
      "Common_name =  Galápagos Penguin\n",
      "Scientific_name =  Spheniscus mendiculus\n",
      "Conservation_status =  Endangered \n",
      "\n",
      "Common_name =  Ganges River Dolphin\n",
      "Scientific_name =  Platanista gangetica gangetica\n",
      "Conservation_status =  Endangered \n",
      "\n",
      "Common_name =  Giant Panda\n",
      "Scientific_name =  Ailuropoda melanoleuca\n",
      "Conservation_status =  Vulnerable \n",
      "\n",
      "Common_name =  Giant Tortoise\n",
      "Scientific_name =  None\n",
      "Conservation_status =  Vulnerable \n",
      "\n",
      "Common_name =  Gorilla\n",
      "Scientific_name =  Gorilla gorilla and Gorilla beringei\n",
      "Conservation_status =  None \n",
      "\n",
      "Common_name =  Gray Whale\n",
      "Scientific_name =  Eschrichtius robustus\n",
      "Conservation_status =  Least Concern \n",
      "\n",
      "Common_name =  Great White Shark\n",
      "Scientific_name =  Carcharodon carcharias\n",
      "Conservation_status =  Vulnerable \n",
      "\n",
      "Common_name =  Greater One-Horned Rhino\n",
      "Scientific_name =  Rhinoceros unicornis\n",
      "Conservation_status =  Vulnerable \n",
      "\n",
      "Common_name =  Greater Sage-Grouse\n",
      "Scientific_name =  Centrocercus urophasianus\n",
      "Conservation_status =  Near Threatened \n",
      "\n",
      "Common_name =  Green Turtle\n",
      "Scientific_name =  Chelonia mydas\n",
      "Conservation_status =  Endangered \n",
      "\n",
      "Common_name =  Hawksbill Turtle\n",
      "Scientific_name =  Eretmochelys imbricata\n",
      "Conservation_status =  Critically Endangered \n",
      "\n",
      "Common_name =  Hector's Dolphin\n",
      "Scientific_name =  Cephalorhynchus hectori\n",
      "Conservation_status =  Endangered \n",
      "\n",
      "Common_name =  Hippopotamus\n",
      "Scientific_name =  Hippopotamus amphibius\n",
      "Conservation_status =  Vulnerable \n",
      "\n",
      "Common_name =  Humphead Wrasse\n",
      "Scientific_name =  Cheilinus undulatus\n",
      "Conservation_status =  Endangered \n",
      "\n",
      "Common_name =  Indian Elephant\n",
      "Scientific_name =  Elephas maximus indicus\n",
      "Conservation_status =  Endangered \n",
      "\n",
      "Common_name =  Indochinese Tiger\n",
      "Scientific_name =  Panthera tigris corbetti\n",
      "Conservation_status =  Endangered \n",
      "\n",
      "Common_name =  Indus River Dolphin\n",
      "Scientific_name =  Platanista minor\n",
      "Conservation_status =  Endangered \n",
      "\n",
      "Common_name =  Irrawaddy Dolphin\n",
      "Scientific_name =  Orcaella brevirostris\n",
      "Conservation_status =  Endangered \n",
      "\n",
      "Common_name =  Jaguar\n",
      "Scientific_name =  Panthera onca\n",
      "Conservation_status =  Near Threatened \n",
      "\n"
     ]
    }
   ],
   "source": [
    "data_None = cursor.execute(\"\"\"\n",
    "                      SELECT * FROM SPECIES \n",
    "\"\"\")\n",
    "for row in data_None:\n",
    "   print(\"Common_name = \", row[0])\n",
    "   print(\"Scientific_name = \", row[1])\n",
    "   print(\"Conservation_status = \", row[2],\"\\n\")\n",
    "conn.commit()"
   ]
  },
  {
   "cell_type": "markdown",
   "metadata": {},
   "source": [
    "Retreiving speccific data"
   ]
  },
  {
   "cell_type": "code",
   "execution_count": 31,
   "metadata": {
    "scrolled": false
   },
   "outputs": [
    {
     "name": "stdout",
     "output_type": "stream",
     "text": [
      "Common_name =  Arctic Fox\n",
      "Scientific_name =  Vulpes lagopus\n",
      "Conservation_status =  Least Concern \n",
      "\n",
      "Common_name =  Arctic Wolf\n",
      "Scientific_name =  Canis lupus arctos\n",
      "Conservation_status =  Least Concern \n",
      "\n",
      "Common_name =  Bowhead Whale\n",
      "Scientific_name =  Balaena mysticetus\n",
      "Conservation_status =  Least Concern \n",
      "\n",
      "Common_name =  Brown Bear\n",
      "Scientific_name =  Ursus arctos\n",
      "Conservation_status =  Least Concern \n",
      "\n",
      "Common_name =  Common Bottlenose Dolphin\n",
      "Scientific_name =  Tursiops truncates\n",
      "Conservation_status =  Least Concern \n",
      "\n",
      "Common_name =  Gray Whale\n",
      "Scientific_name =  Eschrichtius robustus\n",
      "Conservation_status =  Least Concern \n",
      "\n"
     ]
    }
   ],
   "source": [
    "data_None = cursor.execute(\"\"\"\n",
    "                      SELECT * FROM SPECIES\n",
    "                      WHERE Conservation_status=\"Least Concern\"\n",
    "\"\"\")\n",
    "for row in data_None:\n",
    "   print(\"Common_name = \", row[0])\n",
    "   print(\"Scientific_name = \", row[1])\n",
    "   print(\"Conservation_status = \", row[2],\"\\n\")\n",
    "conn.commit()"
   ]
  },
  {
   "cell_type": "markdown",
   "metadata": {},
   "source": [
    "Updating a values of table in database using Primary Key as reference "
   ]
  },
  {
   "cell_type": "code",
   "execution_count": 32,
   "metadata": {},
   "outputs": [],
   "source": [
    "cursor.execute(\"\"\"UPDATE SPECIES SET Conservation_status=\"Least-Concern\" WHERE Common_name=\"Gray Whale\"\n",
    "\"\"\")\n",
    "conn.commit()"
   ]
  },
  {
   "cell_type": "code",
   "execution_count": 33,
   "metadata": {
    "scrolled": false
   },
   "outputs": [
    {
     "name": "stdout",
     "output_type": "stream",
     "text": [
      "Common_name =  Gray Whale\n",
      "Scientific_name =  Eschrichtius robustus\n",
      "Conservation_status =  Least-Concern \n",
      "\n"
     ]
    }
   ],
   "source": [
    "data_None = cursor.execute(\"\"\"\n",
    "                      SELECT * FROM SPECIES\n",
    "                      WHERE Conservation_status=\"Least-Concern\" \n",
    "\"\"\")\n",
    "for row in data_None:\n",
    "   print(\"Common_name = \", row[0])\n",
    "   print(\"Scientific_name = \", row[1])\n",
    "   print(\"Conservation_status = \", row[2],\"\\n\")\n",
    "conn.commit()"
   ]
  },
  {
   "cell_type": "markdown",
   "metadata": {},
   "source": [
    "Inserting a data in the table in database"
   ]
  },
  {
   "cell_type": "code",
   "execution_count": 34,
   "metadata": {},
   "outputs": [],
   "source": [
    "cursor.execute(\"INSERT INTO SPECIES(Common_name, Scientific_name, Conservation_status) \\\n",
    "      VALUES ('Cat', 'Felis catus', 'Important' )\")\n",
    "conn.commit()"
   ]
  },
  {
   "cell_type": "code",
   "execution_count": 35,
   "metadata": {
    "scrolled": true
   },
   "outputs": [
    {
     "name": "stdout",
     "output_type": "stream",
     "text": [
      "Common_name =  Cat\n",
      "Scientific_name =  Felis catus\n",
      "Conservation_status =  Important \n",
      "\n"
     ]
    }
   ],
   "source": [
    "data_None = cursor.execute(\"\"\"\n",
    "                      SELECT * FROM SPECIES\n",
    "                      WHERE Conservation_status=\"Important\"\n",
    "\"\"\")\n",
    "for row in data_None:\n",
    "   print(\"Common_name = \", row[0])\n",
    "   print(\"Scientific_name = \", row[1])\n",
    "   print(\"Conservation_status = \", row[2],\"\\n\")\n",
    "conn.commit()"
   ]
  },
  {
   "cell_type": "markdown",
   "metadata": {},
   "source": [
    "Deleting the same data as inserted above"
   ]
  },
  {
   "cell_type": "code",
   "execution_count": 36,
   "metadata": {},
   "outputs": [],
   "source": [
    "cursor.execute(\"\"\"DELETE from SPECIES where Common_name=\"Cat\"\n",
    "\"\"\")\n",
    "conn.commit()"
   ]
  },
  {
   "cell_type": "code",
   "execution_count": 37,
   "metadata": {},
   "outputs": [],
   "source": [
    "data_None = cursor.execute(\"\"\"\n",
    "                      SELECT * FROM SPECIES\n",
    "                      WHERE Conservation_status=\"Important\"\n",
    "\"\"\")\n",
    "for row in data_None:\n",
    "   print(\"Common_name = \", row[0])\n",
    "   print(\"Scientific_name = \", row[1])\n",
    "   print(\"Conservation_status = \", row[2],\"\\n\")\n",
    "conn.commit()"
   ]
  },
  {
   "cell_type": "markdown",
   "metadata": {},
   "source": [
    "The data base does not return any values, since it does not have values we ased for."
   ]
  },
  {
   "cell_type": "code",
   "execution_count": 38,
   "metadata": {},
   "outputs": [],
   "source": [
    "conn.close()"
   ]
  },
  {
   "cell_type": "markdown",
   "metadata": {},
   "source": [
    "https://towardsdatascience.com/web-scraping-html-tables-with-python-c9baba21059- Xpath example"
   ]
  }
 ],
 "metadata": {
  "kernelspec": {
   "display_name": "Python 3",
   "language": "python",
   "name": "python3"
  },
  "language_info": {
   "codemirror_mode": {
    "name": "ipython",
    "version": 3
   },
   "file_extension": ".py",
   "mimetype": "text/x-python",
   "name": "python",
   "nbconvert_exporter": "python",
   "pygments_lexer": "ipython3",
   "version": "3.6.8"
  }
 },
 "nbformat": 4,
 "nbformat_minor": 2
}
