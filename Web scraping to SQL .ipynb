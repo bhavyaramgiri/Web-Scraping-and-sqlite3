{
 "cells": [
  {
   "cell_type": "markdown",
   "metadata": {},
   "source": [
    "Variables used: r(request to website),we3(lxml from html),table(table of website),we3_table(pandas dataframe), we3(table name in database)"
   ]
  },
  {
   "cell_type": "code",
   "execution_count": 1,
   "metadata": {},
   "outputs": [],
   "source": [
    "import requests\n",
    "import pandas as pd\n",
    "import sqlite3\n",
    "import lxml.html"
   ]
  },
  {
   "cell_type": "markdown",
   "metadata": {},
   "source": [
    "#### scraping data from html -1"
   ]
  },
  {
   "cell_type": "code",
   "execution_count": 2,
   "metadata": {},
   "outputs": [],
   "source": [
    "r = requests.get(\"https://www.w3schools.com/html/html_tables.asp\")"
   ]
  },
  {
   "cell_type": "code",
   "execution_count": 3,
   "metadata": {},
   "outputs": [
    {
     "data": {
      "text/plain": [
       "<Response [200]>"
      ]
     },
     "execution_count": 3,
     "metadata": {},
     "output_type": "execute_result"
    }
   ],
   "source": [
    "r"
   ]
  },
  {
   "cell_type": "markdown",
   "metadata": {},
   "source": [
    "typing r.text and running it will give the text of source code which we saw by typing ^u"
   ]
  },
  {
   "cell_type": "code",
   "execution_count": 4,
   "metadata": {},
   "outputs": [],
   "source": [
    "we3 = lxml.html.fromstring(r.text) #lxml is used to parse html content."
   ]
  },
  {
   "cell_type": "code",
   "execution_count": 5,
   "metadata": {},
   "outputs": [
    {
     "data": {
      "text/plain": [
       "<Element html at 0x7fe84f00d8b8>"
      ]
     },
     "execution_count": 5,
     "metadata": {},
     "output_type": "execute_result"
    }
   ],
   "source": [
    "we3"
   ]
  },
  {
   "cell_type": "markdown",
   "metadata": {},
   "source": [
    "Acquiring Table from \"we3\" "
   ]
  },
  {
   "cell_type": "code",
   "execution_count": 6,
   "metadata": {},
   "outputs": [],
   "source": [
    "table = we3.get_element_by_id(\"customers\")"
   ]
  },
  {
   "cell_type": "code",
   "execution_count": 7,
   "metadata": {},
   "outputs": [
    {
     "data": {
      "text/plain": [
       "<Element table at 0x7fe84f029958>"
      ]
     },
     "execution_count": 7,
     "metadata": {},
     "output_type": "execute_result"
    }
   ],
   "source": [
    "table"
   ]
  },
  {
   "cell_type": "code",
   "execution_count": 8,
   "metadata": {},
   "outputs": [
    {
     "data": {
      "text/plain": [
       "[<Element tr at 0x7fe84e799458>,\n",
       " <Element tr at 0x7fe84e7993b8>,\n",
       " <Element tr at 0x7fe84e799368>,\n",
       " <Element tr at 0x7fe84e7994a8>,\n",
       " <Element tr at 0x7fe84e7994f8>,\n",
       " <Element tr at 0x7fe84e799548>,\n",
       " <Element tr at 0x7fe84e799598>]"
      ]
     },
     "execution_count": 8,
     "metadata": {},
     "output_type": "execute_result"
    }
   ],
   "source": [
    "table.getchildren() # we get the output as list which are table rows(tr)"
   ]
  },
  {
   "cell_type": "code",
   "execution_count": 9,
   "metadata": {},
   "outputs": [
    {
     "data": {
      "text/plain": [
       "7"
      ]
     },
     "execution_count": 9,
     "metadata": {},
     "output_type": "execute_result"
    }
   ],
   "source": [
    "len(table.getchildren()) # one is header and rest 6 are the table contents"
   ]
  },
  {
   "cell_type": "code",
   "execution_count": 10,
   "metadata": {},
   "outputs": [
    {
     "data": {
      "text/plain": [
       "[<Element th at 0x7fe84e7997c8>,\n",
       " <Element th at 0x7fe84e799278>,\n",
       " <Element th at 0x7fe84e799318>]"
      ]
     },
     "execution_count": 10,
     "metadata": {},
     "output_type": "execute_result"
    }
   ],
   "source": [
    "table.getchildren()[0].getchildren() # this can be checked in the source code under the first set of <tr> tag"
   ]
  },
  {
   "cell_type": "code",
   "execution_count": 11,
   "metadata": {},
   "outputs": [
    {
     "data": {
      "text/plain": [
       "'\\r\\n    Company\\r\\n    Contact\\r\\n    Country\\r\\n  '"
      ]
     },
     "execution_count": 11,
     "metadata": {},
     "output_type": "execute_result"
    }
   ],
   "source": [
    "table.getchildren()[0].text_content() # header of the table"
   ]
  },
  {
   "cell_type": "code",
   "execution_count": 12,
   "metadata": {},
   "outputs": [
    {
     "name": "stdout",
     "output_type": "stream",
     "text": [
      "Magazzini Alimentari Riuniti\n",
      "Giovanni Rovelli\n",
      "Italy\n"
     ]
    }
   ],
   "source": [
    "print(table.getchildren()[6].getchildren()[0].text_content())# last row, 1st element\n",
    "print(table.getchildren()[6].getchildren()[1].text_content())#last row, 2nd element\n",
    "print(table.getchildren()[6].getchildren()[2].text_content())#last row, 3rd element"
   ]
  },
  {
   "cell_type": "markdown",
   "metadata": {},
   "source": [
    "#### parsing from lxml into pandas -2"
   ]
  },
  {
   "cell_type": "code",
   "execution_count": 13,
   "metadata": {},
   "outputs": [],
   "source": [
    "data = {\n",
    "    \"Company\"   :[],\n",
    "    \"Contact\"   :[],\n",
    "    \"Country\"   :[],    \n",
    "}\n",
    "for row in table.getchildren()[1:7]:\n",
    "    data[\"Company\"].append(row.getchildren()[0].text_content())\n",
    "    data[\"Contact\"].append(row.getchildren()[1].text_content())\n",
    "    data[\"Country\"].append(row.getchildren()[2].text_content())\n",
    "    "
   ]
  },
  {
   "cell_type": "code",
   "execution_count": 14,
   "metadata": {},
   "outputs": [
    {
     "data": {
      "text/html": [
       "<div>\n",
       "<style scoped>\n",
       "    .dataframe tbody tr th:only-of-type {\n",
       "        vertical-align: middle;\n",
       "    }\n",
       "\n",
       "    .dataframe tbody tr th {\n",
       "        vertical-align: top;\n",
       "    }\n",
       "\n",
       "    .dataframe thead th {\n",
       "        text-align: right;\n",
       "    }\n",
       "</style>\n",
       "<table border=\"1\" class=\"dataframe\">\n",
       "  <thead>\n",
       "    <tr style=\"text-align: right;\">\n",
       "      <th></th>\n",
       "      <th>Company</th>\n",
       "      <th>Contact</th>\n",
       "      <th>Country</th>\n",
       "    </tr>\n",
       "  </thead>\n",
       "  <tbody>\n",
       "    <tr>\n",
       "      <th>0</th>\n",
       "      <td>Alfreds Futterkiste</td>\n",
       "      <td>Maria Anders</td>\n",
       "      <td>Germany</td>\n",
       "    </tr>\n",
       "    <tr>\n",
       "      <th>1</th>\n",
       "      <td>Centro comercial Moctezuma</td>\n",
       "      <td>Francisco Chang</td>\n",
       "      <td>Mexico</td>\n",
       "    </tr>\n",
       "    <tr>\n",
       "      <th>2</th>\n",
       "      <td>Ernst Handel</td>\n",
       "      <td>Roland Mendel</td>\n",
       "      <td>Austria</td>\n",
       "    </tr>\n",
       "    <tr>\n",
       "      <th>3</th>\n",
       "      <td>Island Trading</td>\n",
       "      <td>Helen Bennett</td>\n",
       "      <td>UK</td>\n",
       "    </tr>\n",
       "    <tr>\n",
       "      <th>4</th>\n",
       "      <td>Laughing Bacchus Winecellars</td>\n",
       "      <td>Yoshi Tannamuri</td>\n",
       "      <td>Canada</td>\n",
       "    </tr>\n",
       "    <tr>\n",
       "      <th>5</th>\n",
       "      <td>Magazzini Alimentari Riuniti</td>\n",
       "      <td>Giovanni Rovelli</td>\n",
       "      <td>Italy</td>\n",
       "    </tr>\n",
       "  </tbody>\n",
       "</table>\n",
       "</div>"
      ],
      "text/plain": [
       "                        Company           Contact  Country\n",
       "0           Alfreds Futterkiste      Maria Anders  Germany\n",
       "1    Centro comercial Moctezuma   Francisco Chang   Mexico\n",
       "2                  Ernst Handel     Roland Mendel  Austria\n",
       "3                Island Trading     Helen Bennett       UK\n",
       "4  Laughing Bacchus Winecellars   Yoshi Tannamuri   Canada\n",
       "5  Magazzini Alimentari Riuniti  Giovanni Rovelli    Italy"
      ]
     },
     "execution_count": 14,
     "metadata": {},
     "output_type": "execute_result"
    }
   ],
   "source": [
    "we3_table = pd.DataFrame(data)\n",
    "we3_table"
   ]
  },
  {
   "cell_type": "markdown",
   "metadata": {},
   "source": [
    "#### Inserting pandas data into sqlite -3"
   ]
  },
  {
   "cell_type": "code",
   "execution_count": 15,
   "metadata": {},
   "outputs": [
    {
     "name": "stdout",
     "output_type": "stream",
     "text": [
      "Pandas(Index=0, Company='Alfreds Futterkiste', Contact='Maria Anders', Country='Germany')\n",
      "Pandas(Index=1, Company='Centro comercial Moctezuma', Contact='Francisco Chang', Country='Mexico')\n",
      "Pandas(Index=2, Company='Ernst Handel', Contact='Roland Mendel', Country='Austria')\n",
      "Pandas(Index=3, Company='Island Trading', Contact='Helen Bennett', Country='UK')\n",
      "Pandas(Index=4, Company='Laughing Bacchus Winecellars', Contact='Yoshi Tannamuri', Country='Canada')\n",
      "Pandas(Index=5, Company='Magazzini Alimentari Riuniti', Contact='Giovanni Rovelli', Country='Italy')\n"
     ]
    }
   ],
   "source": [
    "for i in we3_table.itertuples():\n",
    "    print(i) "
   ]
  },
  {
   "cell_type": "code",
   "execution_count": 16,
   "metadata": {},
   "outputs": [
    {
     "name": "stdout",
     "output_type": "stream",
     "text": [
      "('Alfreds Futterkiste', 'Maria Anders', 'Germany')\n",
      "('Centro comercial Moctezuma', 'Francisco Chang', 'Mexico')\n",
      "('Ernst Handel', 'Roland Mendel', 'Austria')\n",
      "('Island Trading', 'Helen Bennett', 'UK')\n",
      "('Laughing Bacchus Winecellars', 'Yoshi Tannamuri', 'Canada')\n",
      "('Magazzini Alimentari Riuniti', 'Giovanni Rovelli', 'Italy')\n"
     ]
    }
   ],
   "source": [
    "for q in we3_table.itertuples(): #we dont want the Index as displayed above.\n",
    "    print(q[1:]) "
   ]
  },
  {
   "cell_type": "code",
   "execution_count": 17,
   "metadata": {},
   "outputs": [],
   "source": [
    "conn = sqlite3.connect(\":memory:\") # database(stored in variable conn) is created temprorarily in memory\n",
    "cursor = conn.cursor()\n",
    "cursor.execute(\"\"\"\n",
    "    CREATE TABLE we3(Company, Contact, Country)\n",
    "\"\"\")\n",
    "for row in we3_table.itertuples():\n",
    "    insert_table = \"\"\"\n",
    "    INSERT INTO we3(Company, Contact, Country) \\\n",
    "    VALUES (?,?,?)\n",
    "\"\"\"\n",
    "    cursor.execute(insert_table, row[1:])\n",
    "#conn.close()\n",
    "conn.commit()"
   ]
  },
  {
   "cell_type": "markdown",
   "metadata": {},
   "source": [
    "#### Retrieving data from table we3 and display records using SELECT command-Data Query Language"
   ]
  },
  {
   "cell_type": "code",
   "execution_count": 18,
   "metadata": {},
   "outputs": [
    {
     "name": "stdout",
     "output_type": "stream",
     "text": [
      "Company =  Alfreds Futterkiste\n",
      "Contact =  Maria Anders\n",
      "Country =  Germany \n",
      "\n",
      "Company =  Centro comercial Moctezuma\n",
      "Contact =  Francisco Chang\n",
      "Country =  Mexico \n",
      "\n",
      "Company =  Ernst Handel\n",
      "Contact =  Roland Mendel\n",
      "Country =  Austria \n",
      "\n",
      "Company =  Island Trading\n",
      "Contact =  Helen Bennett\n",
      "Country =  UK \n",
      "\n",
      "Company =  Laughing Bacchus Winecellars\n",
      "Contact =  Yoshi Tannamuri\n",
      "Country =  Canada \n",
      "\n",
      "Company =  Magazzini Alimentari Riuniti\n",
      "Contact =  Giovanni Rovelli\n",
      "Country =  Italy \n",
      "\n"
     ]
    }
   ],
   "source": [
    "retrieving = conn.execute(\"SELECT company, contact, country FROM we3\")\n",
    "for row in retrieving:\n",
    "   print(\"Company = \", row[0])\n",
    "   print(\"Contact = \", row[1])\n",
    "   print(\"Country = \", row[2], \"\\n\")"
   ]
  },
  {
   "cell_type": "code",
   "execution_count": 19,
   "metadata": {},
   "outputs": [],
   "source": [
    "conn.close()"
   ]
  },
  {
   "cell_type": "code",
   "execution_count": null,
   "metadata": {},
   "outputs": [],
   "source": []
  }
 ],
 "metadata": {
  "kernelspec": {
   "display_name": "Python 3",
   "language": "python",
   "name": "python3"
  },
  "language_info": {
   "codemirror_mode": {
    "name": "ipython",
    "version": 3
   },
   "file_extension": ".py",
   "mimetype": "text/x-python",
   "name": "python",
   "nbconvert_exporter": "python",
   "pygments_lexer": "ipython3",
   "version": "3.6.5"
  }
 },
 "nbformat": 4,
 "nbformat_minor": 2
}
